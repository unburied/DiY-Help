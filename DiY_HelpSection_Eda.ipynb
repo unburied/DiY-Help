{
  "nbformat": 4,
  "nbformat_minor": 0,
  "metadata": {
    "colab": {
      "name": "DiY-HelpSection-Eda.ipynb",
      "provenance": [],
      "authorship_tag": "ABX9TyObhXbZiNXQq/8FOvuhHmzo",
      "include_colab_link": true
    },
    "kernelspec": {
      "name": "python3",
      "display_name": "Python 3"
    }
  },
  "cells": [
    {
      "cell_type": "markdown",
      "metadata": {
        "id": "view-in-github",
        "colab_type": "text"
      },
      "source": [
        "<a href=\"https://colab.research.google.com/github/unburied/DiY-Help/blob/master/DiY_HelpSection_Eda.ipynb\" target=\"_parent\"><img src=\"https://colab.research.google.com/assets/colab-badge.svg\" alt=\"Open In Colab\"/></a>"
      ]
    },
    {
      "cell_type": "code",
      "metadata": {
        "id": "RBZZDXflq-pK",
        "colab_type": "code",
        "colab": {}
      },
      "source": [
        "import pandas as pd"
      ],
      "execution_count": 0,
      "outputs": []
    },
    {
      "cell_type": "code",
      "metadata": {
        "id": "SuCuu0fa1AYk",
        "colab_type": "code",
        "colab": {
          "base_uri": "https://localhost:8080/",
          "height": 228
        },
        "outputId": "5ca051ab-c0d0-4002-d0a2-6b827927ad47"
      },
      "source": [
        "!wget 'https://raw.githubusercontent.com/unburied/DiY-Help/master/Help%20Section%20Articles-February%2013%2C%202020%20(1).csv' "
      ],
      "execution_count": 2,
      "outputs": [
        {
          "output_type": "stream",
          "text": [
            "--2020-02-13 18:44:06--  https://raw.githubusercontent.com/unburied/DiY-Help/master/Help%20Section%20Articles-February%2013%2C%202020%20(1).csv\n",
            "Resolving raw.githubusercontent.com (raw.githubusercontent.com)... 151.101.0.133, 151.101.64.133, 151.101.128.133, ...\n",
            "Connecting to raw.githubusercontent.com (raw.githubusercontent.com)|151.101.0.133|:443... connected.\n",
            "HTTP request sent, awaiting response... 200 OK\n",
            "Length: 340319 (332K) [text/plain]\n",
            "Saving to: ‘Help Section Articles-February 13, 2020 (1).csv’\n",
            "\n",
            "\r          Help Sect   0%[                    ]       0  --.-KB/s               \rHelp Section Articl 100%[===================>] 332.34K  --.-KB/s    in 0.03s   \n",
            "\n",
            "2020-02-13 18:44:06 (11.0 MB/s) - ‘Help Section Articles-February 13, 2020 (1).csv’ saved [340319/340319]\n",
            "\n"
          ],
          "name": "stdout"
        }
      ]
    },
    {
      "cell_type": "code",
      "metadata": {
        "id": "2gu9Vc_-rZ57",
        "colab_type": "code",
        "colab": {}
      },
      "source": [
        "# Load data and confirm shape equates to web scraped export\n",
        "data ='Help Section Articles-February 13, 2020 (1).csv'\n",
        "df = pd.read_csv(data)\n",
        "\n",
        "assert df.shape == (427,4)"
      ],
      "execution_count": 0,
      "outputs": []
    },
    {
      "cell_type": "code",
      "metadata": {
        "id": "03jILfO-tpi0",
        "colab_type": "code",
        "colab": {}
      },
      "source": [
        "import unicodedata as uc\n",
        "\n",
        "# clean content data\n",
        "def normaled_unicode(x):\n",
        "  return uc.normalize('NFKD', str(x))\n",
        "df['content'] = df.content.apply(normaled_unicode)\n",
        "\n",
        "# get word count to output\n",
        "def word_count(x):\n",
        "  return len(x.split())\n",
        "df['word_count'] = df.content.apply(word_count)"
      ],
      "execution_count": 0,
      "outputs": []
    },
    {
      "cell_type": "code",
      "metadata": {
        "id": "fJfYRYXb4SLM",
        "colab_type": "code",
        "colab": {}
      },
      "source": [
        "VERBOSE = 75\n",
        "\n",
        "result = df[df.word_count > VERBOSE]"
      ],
      "execution_count": 0,
      "outputs": []
    },
    {
      "cell_type": "code",
      "metadata": {
        "id": "rZxiQvMH5NQp",
        "colab_type": "code",
        "colab": {
          "base_uri": "https://localhost:8080/",
          "height": 621
        },
        "outputId": "ced07c1e-e1cb-48c6-ea10-baf7604a6298"
      },
      "source": [
        "result.tail()"
      ],
      "execution_count": 26,
      "outputs": [
        {
          "output_type": "execute_result",
          "data": {
            "text/html": [
              "<div>\n",
              "<style scoped>\n",
              "    .dataframe tbody tr th:only-of-type {\n",
              "        vertical-align: middle;\n",
              "    }\n",
              "\n",
              "    .dataframe tbody tr th {\n",
              "        vertical-align: top;\n",
              "    }\n",
              "\n",
              "    .dataframe thead th {\n",
              "        text-align: right;\n",
              "    }\n",
              "</style>\n",
              "<table border=\"1\" class=\"dataframe\">\n",
              "  <thead>\n",
              "    <tr style=\"text-align: right;\">\n",
              "      <th></th>\n",
              "      <th>title</th>\n",
              "      <th>content</th>\n",
              "      <th>urls</th>\n",
              "      <th>categories</th>\n",
              "      <th>word_count</th>\n",
              "    </tr>\n",
              "  </thead>\n",
              "  <tbody>\n",
              "    <tr>\n",
              "      <th>401</th>\n",
              "      <td>What’s the difference between a duplicator and...</td>\n",
              "      <td>A disc duplicator is a system that only copies...</td>\n",
              "      <td>https://support.discmakers.com/hc/en-us/articl...</td>\n",
              "      <td>Hardware Product Support</td>\n",
              "      <td>116</td>\n",
              "    </tr>\n",
              "    <tr>\n",
              "      <th>402</th>\n",
              "      <td>Do I need a computer?</td>\n",
              "      <td>Ultimately, a computer will most likely become...</td>\n",
              "      <td>https://support.discmakers.com/hc/en-us/articl...</td>\n",
              "      <td>Hardware Product Support</td>\n",
              "      <td>84</td>\n",
              "    </tr>\n",
              "    <tr>\n",
              "      <th>404</th>\n",
              "      <td>What are the different ways you can print on a...</td>\n",
              "      <td>In the CD and DVD industry, the term label ref...</td>\n",
              "      <td>https://support.discmakers.com/hc/en-us/articl...</td>\n",
              "      <td>Hardware Product Support</td>\n",
              "      <td>327</td>\n",
              "    </tr>\n",
              "    <tr>\n",
              "      <th>405</th>\n",
              "      <td>How do I choose a CD DVD duplication system?</td>\n",
              "      <td>The right system is the one that works best wi...</td>\n",
              "      <td>https://support.discmakers.com/hc/en-us/articl...</td>\n",
              "      <td>Hardware Product Support</td>\n",
              "      <td>245</td>\n",
              "    </tr>\n",
              "    <tr>\n",
              "      <th>416</th>\n",
              "      <td>Reflex Series support documents</td>\n",
              "      <td>Your one stop for all documents and how-to gu...</td>\n",
              "      <td>https://support.discmakers.com/hc/en-us/articl...</td>\n",
              "      <td>Hardware Product Support</td>\n",
              "      <td>164</td>\n",
              "    </tr>\n",
              "  </tbody>\n",
              "</table>\n",
              "</div>"
            ],
            "text/plain": [
              "                                                 title  ... word_count\n",
              "401  What’s the difference between a duplicator and...  ...        116\n",
              "402                              Do I need a computer?  ...         84\n",
              "404  What are the different ways you can print on a...  ...        327\n",
              "405       How do I choose a CD DVD duplication system?  ...        245\n",
              "416                    Reflex Series support documents  ...        164\n",
              "\n",
              "[5 rows x 5 columns]"
            ]
          },
          "metadata": {
            "tags": []
          },
          "execution_count": 26
        }
      ]
    },
    {
      "cell_type": "code",
      "metadata": {
        "id": "x4RGsHrF8Ben",
        "colab_type": "code",
        "colab": {}
      },
      "source": [
        "from datetime import date\n",
        "\n",
        "today = date.today()\n",
        "today = today.strftime(\"%B %d, %Y\")\n",
        "\n",
        "file_name = 'Word Counts' + today + '.csv'\n",
        "\n",
        "result.to_csv(file_name, index = False)"
      ],
      "execution_count": 0,
      "outputs": []
    },
    {
      "cell_type": "code",
      "metadata": {
        "id": "fcJ-4wFP_HmA",
        "colab_type": "code",
        "colab": {}
      },
      "source": [
        ""
      ],
      "execution_count": 0,
      "outputs": []
    }
  ]
}